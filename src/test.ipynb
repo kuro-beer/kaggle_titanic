{
 "cells": [
  {
   "cell_type": "code",
   "execution_count": 2,
   "metadata": {},
   "outputs": [],
   "source": [
    "# import libraries\n",
    "import numpy as np\n",
    "import pandas as pd\n",
    "from sklearn.linear_model import LogisticRegression\n"
   ]
  },
  {
   "cell_type": "markdown",
   "metadata": {},
   "source": [
    "### Text handling module"
   ]
  },
  {
   "cell_type": "code",
   "execution_count": 11,
   "metadata": {},
   "outputs": [
    {
     "data": {
      "text/plain": [
       "0    0\n",
       "1    0\n",
       "2    1\n",
       "Name: Mrs, dtype: object"
      ]
     },
     "execution_count": 11,
     "metadata": {},
     "output_type": "execute_result"
    }
   ],
   "source": [
    "from process import texthandling as th\n",
    "a = pd.DataFrame({'id':   [1,2,3],\n",
    "                        'name': ['Mr.Tanaka', 'Ms.Suzuki', 'Mrs.Black']})\n",
    "b = ['Mrs', 'Ms', 'Mr']\n",
    "\n",
    "x = th.FlagWords(a['name'], b, independent=True)\n",
    "x['Mrs']"
   ]
  },
  {
   "cell_type": "code",
   "execution_count": 21,
   "metadata": {},
   "outputs": [
    {
     "data": {
      "text/plain": [
       "0    0\n",
       "1    0\n",
       "2    1\n",
       "Name: Mrs, dtype: int64"
      ]
     },
     "execution_count": 21,
     "metadata": {},
     "output_type": "execute_result"
    }
   ],
   "source": [
    "def FlagWords(text_df, words, independent=False):\n",
    "    flags_df = pd.DataFrame(columns=words)\n",
    "    \n",
    "    for text in text_df:\n",
    "        _list = []\n",
    "        for word in words:\n",
    "            if word in text:\n",
    "                _list.append(word)\n",
    "                if independent == True:\n",
    "                    break\n",
    "\n",
    "        _tmp_df = pd.DataFrame([[int(i in _list) for i in words]], columns=words)\n",
    "        flags_df = flags_df.append(_tmp_df, ignore_index=True)\n",
    "    flags_df = flags_df.astype('int')\n",
    "    return flags_df"
   ]
  },
  {
   "cell_type": "markdown",
   "metadata": {},
   "source": [
    "# Cross Validation"
   ]
  },
  {
   "cell_type": "code",
   "execution_count": 98,
   "metadata": {},
   "outputs": [],
   "source": [
    "# Generate sample data\n",
    "np.random.seed(123)\n",
    "df = pd.DataFrame({'explain1': np.random.randn(1000),\n",
    "                   'explain2': np.random.randn(1000),\n",
    "                   'explain3': np.random.randn(1000),\n",
    "                   'error': np.random.randn(1000)})\n",
    "df = df.assign(score = df.explain1 + df.explain2 + df.explain3 + df.error*0.5)\n",
    "df = df.assign(survival = df.score.apply(lambda x: 1 if x >= 0.2 else 0))\n"
   ]
  },
  {
   "cell_type": "code",
   "execution_count": 99,
   "metadata": {},
   "outputs": [
    {
     "name": "stdout",
     "output_type": "stream",
     "text": [
      "[-0.60972616] [[ 3.07527999  3.30663655  3.11866776]]\n",
      "0.912\n"
     ]
    }
   ],
   "source": [
    "lr = LogisticRegression()\n",
    "x_var = df[['explain1', 'explain2', 'explain3']]\n",
    "y_var = df.survival\n",
    "\n",
    "lr.fit(x_var, y_var)\n",
    "\n",
    "print (lr.intercept_, lr.coef_)\n",
    "print (lr.score(x_var, y_var))\n"
   ]
  },
  {
   "cell_type": "code",
   "execution_count": 100,
   "metadata": {},
   "outputs": [],
   "source": [
    "def fitmodel(method, x, y):\n",
    "    fit = method.fit(x, y)\n",
    "    return fit\n",
    "    \n",
    "x = fitmodel(method=lr, x=x_var, y=y_var)"
   ]
  },
  {
   "cell_type": "code",
   "execution_count": 101,
   "metadata": {},
   "outputs": [
    {
     "name": "stdout",
     "output_type": "stream",
     "text": [
      "accuracy: 0.912\n"
     ]
    }
   ],
   "source": [
    "pred = x.predict(x_var)\n",
    "actual = y_var\n",
    "\n",
    "compare = pd.DataFrame({'pred': pred, 'actual': actual})\n",
    "compare['correct'] = (compare.pred == compare.actual).apply(lambda x: int(x))\n",
    "cross = pd.crosstab(compare.pred, compare.actual, margins=True)\n",
    "\n",
    "accuracy = compare.correct.sum() / compare.correct.count()\n",
    "print('accuracy: {0:.3f}'.format(accuracy))"
   ]
  },
  {
   "cell_type": "markdown",
   "metadata": {},
   "source": [
    "### calc accuracy"
   ]
  },
  {
   "cell_type": "code",
   "execution_count": 227,
   "metadata": {},
   "outputs": [
    {
     "name": "stdout",
     "output_type": "stream",
     "text": [
      "size: 1000, accuracy: 0.912\n"
     ]
    }
   ],
   "source": [
    "def accuracy(pred, actual):\n",
    "    compare = pd.DataFrame({'pred': pred, 'actual': actual})\n",
    "    compare['correct'] = (compare.pred == compare.actual).apply(lambda x: int(x))\n",
    "    \n",
    "    crosstab = pd.crosstab(compare.pred, compare.actual, margins=True)\n",
    "    accuracy = compare.correct.sum() / compare.correct.count()\n",
    "    size = len(compare)\n",
    "    print('size: {0:d}, accuracy: {1:.3f}'.format(size, accuracy))\n",
    "    \n",
    "    output = {'crosstable': crosstab, 'accuracy': accuracy, 'compare': compare}\n",
    "    return output\n",
    "\n",
    "_pred = x.predict(x_var)\n",
    "_actual = y_var\n",
    "accu = accuracy(_pred, _actual)"
   ]
  },
  {
   "cell_type": "markdown",
   "metadata": {},
   "source": [
    "### data separation"
   ]
  },
  {
   "cell_type": "code",
   "execution_count": 230,
   "metadata": {},
   "outputs": [
    {
     "name": "stdout",
     "output_type": "stream",
     "text": [
      "      error  explain1  explain2  explain3     score  survival  splitflg\n",
      "0 -0.450599 -1.085631 -0.748827 -1.774224 -3.833981         0         2\n",
      "1  0.609590  0.997345  0.567595 -1.201377  0.668358         1         4\n",
      "2  1.173744  0.282978  0.718151  1.096257  2.684258         1         2\n"
     ]
    }
   ],
   "source": [
    "def dfsplit(train, num, seed):\n",
    "    np.random.seed(seed)\n",
    "    splitdf = train.assign(splitflg = np.random.randint(0, num, len(train)))\n",
    "    return splitdf\n",
    "    \n",
    "print(dfsplit(df, 5, 123).head(3))"
   ]
  },
  {
   "cell_type": "code",
   "execution_count": 231,
   "metadata": {},
   "outputs": [
    {
     "data": {
      "text/html": [
       "<div>\n",
       "<style>\n",
       "    .dataframe thead tr:only-child th {\n",
       "        text-align: right;\n",
       "    }\n",
       "\n",
       "    .dataframe thead th {\n",
       "        text-align: left;\n",
       "    }\n",
       "\n",
       "    .dataframe tbody tr th {\n",
       "        vertical-align: top;\n",
       "    }\n",
       "</style>\n",
       "<table border=\"1\" class=\"dataframe\">\n",
       "  <thead>\n",
       "    <tr style=\"text-align: right;\">\n",
       "      <th></th>\n",
       "      <th>error</th>\n",
       "      <th>explain1</th>\n",
       "      <th>explain2</th>\n",
       "      <th>explain3</th>\n",
       "      <th>score</th>\n",
       "      <th>survival</th>\n",
       "      <th>splitflg</th>\n",
       "    </tr>\n",
       "  </thead>\n",
       "  <tbody>\n",
       "    <tr>\n",
       "      <th>0</th>\n",
       "      <td>-0.450599</td>\n",
       "      <td>-1.085631</td>\n",
       "      <td>-0.748827</td>\n",
       "      <td>-1.774224</td>\n",
       "      <td>-3.833981</td>\n",
       "      <td>0</td>\n",
       "      <td>2</td>\n",
       "    </tr>\n",
       "    <tr>\n",
       "      <th>1</th>\n",
       "      <td>0.609590</td>\n",
       "      <td>0.997345</td>\n",
       "      <td>0.567595</td>\n",
       "      <td>-1.201377</td>\n",
       "      <td>0.668358</td>\n",
       "      <td>1</td>\n",
       "      <td>4</td>\n",
       "    </tr>\n",
       "    <tr>\n",
       "      <th>2</th>\n",
       "      <td>1.173744</td>\n",
       "      <td>0.282978</td>\n",
       "      <td>0.718151</td>\n",
       "      <td>1.096257</td>\n",
       "      <td>2.684258</td>\n",
       "      <td>1</td>\n",
       "      <td>2</td>\n",
       "    </tr>\n",
       "  </tbody>\n",
       "</table>\n",
       "</div>"
      ],
      "text/plain": [
       "      error  explain1  explain2  explain3     score  survival  splitflg\n",
       "0 -0.450599 -1.085631 -0.748827 -1.774224 -3.833981         0         2\n",
       "1  0.609590  0.997345  0.567595 -1.201377  0.668358         1         4\n",
       "2  1.173744  0.282978  0.718151  1.096257  2.684258         1         2"
      ]
     },
     "execution_count": 231,
     "metadata": {},
     "output_type": "execute_result"
    }
   ],
   "source": [
    "df1 = dfsplit(df, 5, 123)\n",
    "df1[df1.splitflg != 3].head(3)\n"
   ]
  },
  {
   "cell_type": "code",
   "execution_count": null,
   "metadata": {
    "collapsed": true
   },
   "outputs": [],
   "source": []
  },
  {
   "cell_type": "code",
   "execution_count": null,
   "metadata": {
    "collapsed": true
   },
   "outputs": [],
   "source": []
  },
  {
   "cell_type": "code",
   "execution_count": null,
   "metadata": {
    "collapsed": true
   },
   "outputs": [],
   "source": []
  },
  {
   "cell_type": "code",
   "execution_count": null,
   "metadata": {
    "collapsed": true
   },
   "outputs": [],
   "source": []
  },
  {
   "cell_type": "code",
   "execution_count": null,
   "metadata": {
    "collapsed": true
   },
   "outputs": [],
   "source": []
  },
  {
   "cell_type": "code",
   "execution_count": null,
   "metadata": {
    "collapsed": true
   },
   "outputs": [],
   "source": []
  },
  {
   "cell_type": "code",
   "execution_count": null,
   "metadata": {
    "collapsed": true
   },
   "outputs": [],
   "source": []
  },
  {
   "cell_type": "code",
   "execution_count": null,
   "metadata": {
    "collapsed": true
   },
   "outputs": [],
   "source": []
  }
 ],
 "metadata": {
  "hide_input": false,
  "kernelspec": {
   "display_name": "Python 3",
   "language": "python",
   "name": "python3"
  },
  "language_info": {
   "codemirror_mode": {
    "name": "ipython",
    "version": 3
   },
   "file_extension": ".py",
   "mimetype": "text/x-python",
   "name": "python",
   "nbconvert_exporter": "python",
   "pygments_lexer": "ipython3",
   "version": "3.5.3"
  }
 },
 "nbformat": 4,
 "nbformat_minor": 2
}
