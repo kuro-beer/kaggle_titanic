{
 "cells": [
  {
   "cell_type": "markdown",
   "metadata": {},
   "source": [
    "# test"
   ]
  },
  {
   "cell_type": "code",
   "execution_count": null,
   "metadata": {
    "code_folding": [
     0
    ],
    "collapsed": true,
    "hide_input": false
   },
   "outputs": [],
   "source": [
    "# base setting\n",
    "import sys\n",
    "sys.path.append('../src/')"
   ]
  },
  {
   "cell_type": "code",
   "execution_count": 6,
   "metadata": {
    "collapsed": true
   },
   "outputs": [],
   "source": [
    "# libraries\n",
    "from logging import StreamHandler, DEBUG, Formatter, FileHandler, getLogger\n",
    "import pandas as pd\n",
    "from sklearn.linear_model import LogisticRegression\n",
    "from process import texthandling as th"
   ]
  },
  {
   "cell_type": "code",
   "execution_count": 7,
   "metadata": {
    "collapsed": true
   },
   "outputs": [],
   "source": [
    "# logger setting\n",
    "logger = getLogger(__name__)\n",
    "logdir = 'log/'\n",
    "if __name__ == '__main__':\n",
    "    log_fmt = Formatter('%(asctime)s %(name)s %(lineno)d [%(levelname)s][%(funcName)s] %(message)s')\n",
    "    handler = StreamHandler()\n",
    "    handler.setLevel('INFO')\n",
    "    handler.setFormatter(log_fmt)\n",
    "    logger.addHandler(handler)\n",
    "    \n",
    "    handler = FileHandler(logdir + 'logistic_reg.ipynb.log', 'a')\n",
    "    handler.setLevel(DEBUG)\n",
    "    handler.setFormatter(log_fmt)\n",
    "    logger.setLevel(DEBUG)\n",
    "    logger.addHandler(handler)"
   ]
  },
  {
   "cell_type": "code",
   "execution_count": 12,
   "metadata": {},
   "outputs": [
    {
     "name": "stderr",
     "output_type": "stream",
     "text": [
      "2017-11-18 09:10:49,484 __main__ 2 [INFO][<module>] start: data import\n",
      "2017-11-18 09:10:49,484 __main__ 2 [INFO][<module>] start: data import\n",
      "2017-11-18 09:10:49,484 __main__ 2 [INFO][<module>] start: data import\n",
      "2017-11-18 09:10:49,499 __main__ 8 [INFO][<module>] finish: datadir import\n",
      "2017-11-18 09:10:49,499 __main__ 8 [INFO][<module>] finish: datadir import\n",
      "2017-11-18 09:10:49,499 __main__ 8 [INFO][<module>] finish: datadir import\n"
     ]
    }
   ],
   "source": [
    "# data input\n",
    "logger.info('start: data import')\n",
    "\n",
    "datadir = '../input/'\n",
    "train = pd.read_csv(datadir + 'train.csv')\n",
    "\n",
    "logger.info('finish: data import')"
   ]
  },
  {
   "cell_type": "code",
   "execution_count": 13,
   "metadata": {},
   "outputs": [
    {
     "name": "stderr",
     "output_type": "stream",
     "text": [
      "2017-11-18 09:13:39,345 __main__ 2 [INFO][<module>] start: data preparation\n",
      "2017-11-18 09:13:39,345 __main__ 2 [INFO][<module>] start: data preparation\n",
      "2017-11-18 09:13:39,345 __main__ 2 [INFO][<module>] start: data preparation\n",
      "2017-11-18 09:13:40,000 __main__ 18 [INFO][<module>] end: data preparation\n",
      "2017-11-18 09:13:40,000 __main__ 18 [INFO][<module>] end: data preparation\n",
      "2017-11-18 09:13:40,000 __main__ 18 [INFO][<module>] end: data preparation\n"
     ]
    }
   ],
   "source": [
    "# processing\n",
    "logger.info('start: data preparation')\n",
    "\n",
    "# get dummy variables\n",
    "dum_sex = pd.get_dummies(train['Sex'])\n",
    "dum_emb = pd.get_dummies(train['Embarked'])\n",
    "\n",
    "train_proc = pd.concat((train, dum_sex, dum_emb), axis = 1)\n",
    "train_proc = train_proc.drop('Sex', axis = 1)\n",
    "train_proc = train_proc.drop('Embarked', axis = 1)\n",
    "train_proc = train_proc.drop('female', axis = 1)\n",
    "train_proc = train_proc.drop('S', axis = 1)\n",
    "\n",
    "name_df = th.FlagWords(train_proc['Name'], ['Mr', 'Master', 'Mrs', 'Miss', ])\n",
    "train_proc = pd.concat([train_proc, name_df], axis=1)\n",
    "train_proc.head(5)\n",
    "\n",
    "logger.info('end: data preparation')\n"
   ]
  },
  {
   "cell_type": "code",
   "execution_count": null,
   "metadata": {
    "collapsed": true
   },
   "outputs": [],
   "source": []
  },
  {
   "cell_type": "code",
   "execution_count": null,
   "metadata": {
    "collapsed": true
   },
   "outputs": [],
   "source": []
  },
  {
   "cell_type": "code",
   "execution_count": null,
   "metadata": {
    "collapsed": true
   },
   "outputs": [],
   "source": []
  },
  {
   "cell_type": "code",
   "execution_count": null,
   "metadata": {
    "collapsed": true
   },
   "outputs": [],
   "source": []
  }
 ],
 "metadata": {
  "hide_input": false,
  "kernelspec": {
   "display_name": "Python 3",
   "language": "python",
   "name": "python3"
  },
  "language_info": {
   "codemirror_mode": {
    "name": "ipython",
    "version": 3
   },
   "file_extension": ".py",
   "mimetype": "text/x-python",
   "name": "python",
   "nbconvert_exporter": "python",
   "pygments_lexer": "ipython3",
   "version": "3.5.3"
  }
 },
 "nbformat": 4,
 "nbformat_minor": 2
}
